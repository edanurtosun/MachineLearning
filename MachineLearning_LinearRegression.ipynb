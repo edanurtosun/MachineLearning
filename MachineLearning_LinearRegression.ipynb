{
  "nbformat": 4,
  "nbformat_minor": 0,
  "metadata": {
    "colab": {
      "name": "MachineLearning/LinearRegression.ipynb",
      "provenance": [],
      "authorship_tag": "ABX9TyPFDBh9vGOx7HPTbwKreMZA",
      "include_colab_link": true
    },
    "kernelspec": {
      "name": "python3",
      "display_name": "Python 3"
    }
  },
  "cells": [
    {
      "cell_type": "markdown",
      "metadata": {
        "id": "view-in-github",
        "colab_type": "text"
      },
      "source": [
        "<a href=\"https://colab.research.google.com/github/edanurtosun/MachineLearning/blob/master/MachineLearning_LinearRegression.ipynb\" target=\"_parent\"><img src=\"https://colab.research.google.com/assets/colab-badge.svg\" alt=\"Open In Colab\"/></a>"
      ]
    },
    {
      "cell_type": "markdown",
      "metadata": {
        "id": "jIkWXUu6gbhu",
        "colab_type": "text"
      },
      "source": [
        "**Linear** **Regression**"
      ]
    },
    {
      "cell_type": "code",
      "metadata": {
        "id": "v8d_Pwb-mgwo",
        "colab_type": "code",
        "colab": {}
      },
      "source": [
        "import numpy as np\n",
        "from sklearn.linear_model import LinearRegression"
      ],
      "execution_count": null,
      "outputs": []
    },
    {
      "cell_type": "code",
      "metadata": {
        "id": "tlDFZkBgq6yx",
        "colab_type": "code",
        "colab": {}
      },
      "source": [
        "from sklearn.datasets import make_regression"
      ],
      "execution_count": null,
      "outputs": []
    },
    {
      "cell_type": "code",
      "metadata": {
        "id": "Pu9FSS0XrBly",
        "colab_type": "code",
        "colab": {}
      },
      "source": [
        "x,y = make_regression(n_samples=100, n_features=1, noise=5)"
      ],
      "execution_count": null,
      "outputs": []
    },
    {
      "cell_type": "code",
      "metadata": {
        "id": "tyVVyWoYrZbQ",
        "colab_type": "code",
        "colab": {}
      },
      "source": [
        "import matplotlib.pyplot as plt\n"
      ],
      "execution_count": null,
      "outputs": []
    },
    {
      "cell_type": "code",
      "metadata": {
        "id": "w0x1EofQrwBe",
        "colab_type": "code",
        "colab": {
          "base_uri": "https://localhost:8080/",
          "height": 282
        },
        "outputId": "76a0f396-90ea-41b1-bfec-fb2b83f71617"
      },
      "source": [
        "plt.scatter(x,y)"
      ],
      "execution_count": null,
      "outputs": [
        {
          "output_type": "execute_result",
          "data": {
            "text/plain": [
              "<matplotlib.collections.PathCollection at 0x7f581267b0b8>"
            ]
          },
          "metadata": {
            "tags": []
          },
          "execution_count": 11
        },
        {
          "output_type": "display_data",
          "data": {
            "image/png": "[encoded data removed]",
            "text/plain": [
              "<Figure size 432x288 with 1 Axes>"
            ]
          },
          "metadata": {
            "tags": [],
            "needs_background": "light"
          }
        }
      ]
    },
    {
      "cell_type": "code",
      "metadata": {
        "id": "0PkkJKQLsIdS",
        "colab_type": "code",
        "colab": {}
      },
      "source": [
        "model = LinearRegression() #lineer reg. modeli olusturulur"
      ],
      "execution_count": null,
      "outputs": []
    },
    {
      "cell_type": "code",
      "metadata": {
        "id": "3RCGnSStscx-",
        "colab_type": "code",
        "colab": {
          "base_uri": "https://localhost:8080/",
          "height": 34
        },
        "outputId": "a581e23b-0981-4dbf-8988-4222824049a9"
      },
      "source": [
        "model.fit(x,y)"
      ],
      "execution_count": null,
      "outputs": [
        {
          "output_type": "execute_result",
          "data": {
            "text/plain": [
              "LinearRegression(copy_X=True, fit_intercept=True, n_jobs=None, normalize=False)"
            ]
          },
          "metadata": {
            "tags": []
          },
          "execution_count": 17
        }
      ]
    },
    {
      "cell_type": "code",
      "metadata": {
        "id": "Cu_DCW-Rs4kP",
        "colab_type": "code",
        "colab": {
          "base_uri": "https://localhost:8080/",
          "height": 34
        },
        "outputId": "8a1d4cd7-28a3-415d-f7dc-b11bd87f99a4"
      },
      "source": [
        "model.score(x,y)"
      ],
      "execution_count": null,
      "outputs": [
        {
          "output_type": "execute_result",
          "data": {
            "text/plain": [
              "0.8219328589697272"
            ]
          },
          "metadata": {
            "tags": []
          },
          "execution_count": 19
        }
      ]
    },
    {
      "cell_type": "code",
      "metadata": {
        "id": "BbAFlbMDtZcc",
        "colab_type": "code",
        "colab": {
          "base_uri": "https://localhost:8080/",
          "height": 34
        },
        "outputId": "fe9fc122-8452-4410-85a8-2bee5135d382"
      },
      "source": [
        "model.coef_"
      ],
      "execution_count": null,
      "outputs": [
        {
          "output_type": "execute_result",
          "data": {
            "text/plain": [
              "array([11.75179167])"
            ]
          },
          "metadata": {
            "tags": []
          },
          "execution_count": 22
        }
      ]
    },
    {
      "cell_type": "code",
      "metadata": {
        "id": "pDofVQmLtszT",
        "colab_type": "code",
        "colab": {
          "base_uri": "https://localhost:8080/",
          "height": 34
        },
        "outputId": "fb8cd480-a8f4-400d-ec9a-a3312c2bb762"
      },
      "source": [
        "model.intercept_"
      ],
      "execution_count": null,
      "outputs": [
        {
          "output_type": "execute_result",
          "data": {
            "text/plain": [
              "0.4714978240525513"
            ]
          },
          "metadata": {
            "tags": []
          },
          "execution_count": 23
        }
      ]
    },
    {
      "cell_type": "code",
      "metadata": {
        "id": "gY00I5dHtxia",
        "colab_type": "code",
        "colab": {}
      },
      "source": [
        "x_test, _ = make_regression(n_samples=50, n_features=1, noise=5)\n",
        "# _ o degeri at yani dikkate alma demek"
      ],
      "execution_count": null,
      "outputs": []
    },
    {
      "cell_type": "code",
      "metadata": {
        "id": "RQbIzgR6uGAj",
        "colab_type": "code",
        "colab": {}
      },
      "source": [
        "y_pred = model.predict(x_test)"
      ],
      "execution_count": null,
      "outputs": []
    },
    {
      "cell_type": "code",
      "metadata": {
        "id": "np4qNKjiuxFo",
        "colab_type": "code",
        "colab": {
          "base_uri": "https://localhost:8080/",
          "height": 235
        },
        "outputId": "c2818c42-b6bd-41ac-ea54-64dcacc074c5"
      },
      "source": [
        "y_pred"
      ],
      "execution_count": null,
      "outputs": [
        {
          "output_type": "execute_result",
          "data": {
            "text/plain": [
              "array([ 20.55515477,  -1.86115593, -25.1037691 ,  -3.46534685,\n",
              "       -22.42992708,   2.20109656,   1.75698208,  22.97072216,\n",
              "        -2.04867773,   6.11343756, -10.95771541,   8.67768267,\n",
              "       -10.79546593,  -4.98322416,  14.8103004 , -28.98568033,\n",
              "       -15.94796626, -12.30309061,  -6.56718126, -20.40653344,\n",
              "        13.19240239,   7.20670233,   8.56819751,  11.37001444,\n",
              "       -15.08490107, -17.29546214,   6.78403084, -19.2358527 ,\n",
              "         4.5862466 ,   6.28685412, -14.49341229,  15.82931844,\n",
              "         9.15307951, -11.56800174,  18.31205132,  -5.71988511,\n",
              "       -14.45099537,  15.13870056,   4.38911356,  -2.70477993,\n",
              "        10.94541018,  -9.3530949 ,  21.00807757,   4.1189109 ,\n",
              "         8.92017638,  21.12667472,  22.18228529,  13.73762972,\n",
              "        25.50547222,  -8.63722004])"
            ]
          },
          "metadata": {
            "tags": []
          },
          "execution_count": 28
        }
      ]
    },
    {
      "cell_type": "code",
      "metadata": {
        "id": "ebBJYBxPuzVB",
        "colab_type": "code",
        "colab": {
          "base_uri": "https://localhost:8080/",
          "height": 282
        },
        "outputId": "794ce2fa-5579-49d5-b2a7-f1aa76a467b0"
      },
      "source": [
        "plt.scatter(x,y, color=\"red\")  #ilk degerlerimiz\n",
        "plt.scatter(x_test, y_pred , color=\"blue\")  #egittikten sonra"
      ],
      "execution_count": null,
      "outputs": [
        {
          "output_type": "execute_result",
          "data": {
            "text/plain": [
              "<matplotlib.collections.PathCollection at 0x7f581205a1d0>"
            ]
          },
          "metadata": {
            "tags": []
          },
          "execution_count": 31
        },
        {
          "output_type": "display_data",
          "data": {
            "image/png": "[encoded data removed]",
            "text/plain": [
              "<Figure size 432x288 with 1 Axes>"
            ]
          },
          "metadata": {
            "tags": [],
            "needs_background": "light"
          }
        }
      ]
    },
    {
      "cell_type": "code",
      "metadata": {
        "id": "gv1v3kRJ0xnY",
        "colab_type": "code",
        "colab": {}
      },
      "source": [
        "x,y = make_regression(n_samples=100, n_features=3, noise=3)\n"
      ],
      "execution_count": null,
      "outputs": []
    },
    {
      "cell_type": "code",
      "metadata": {
        "id": "uDXT8NN11N8s",
        "colab_type": "code",
        "colab": {
          "base_uri": "https://localhost:8080/",
          "height": 101
        },
        "outputId": "45bc4e81-4793-4388-aacf-39d5d6fa545a"
      },
      "source": [
        "x[:5]"
      ],
      "execution_count": null,
      "outputs": [
        {
          "output_type": "execute_result",
          "data": {
            "text/plain": [
              "array([[-1.02852562,  0.00214233,  0.00940696],\n",
              "       [-0.38672137,  1.26548972, -0.0969488 ],\n",
              "       [ 1.24810962,  0.3746729 , -0.79615039],\n",
              "       [-0.94342706, -1.06786247, -0.24390412],\n",
              "       [-0.82299593, -1.0320791 , -1.14334052]])"
            ]
          },
          "metadata": {
            "tags": []
          },
          "execution_count": 38
        }
      ]
    },
    {
      "cell_type": "code",
      "metadata": {
        "id": "ALcQAOYi0__1",
        "colab_type": "code",
        "colab": {}
      },
      "source": [
        "multi_model = LinearRegression()"
      ],
      "execution_count": null,
      "outputs": []
    },
    {
      "cell_type": "code",
      "metadata": {
        "id": "ukTrdBl71E73",
        "colab_type": "code",
        "colab": {
          "base_uri": "https://localhost:8080/",
          "height": 34
        },
        "outputId": "fc375440-a7fc-453a-ade7-a92394345320"
      },
      "source": [
        "multi_model.fit(x,y)"
      ],
      "execution_count": null,
      "outputs": [
        {
          "output_type": "execute_result",
          "data": {
            "text/plain": [
              "LinearRegression(copy_X=True, fit_intercept=True, n_jobs=None, normalize=False)"
            ]
          },
          "metadata": {
            "tags": []
          },
          "execution_count": 37
        }
      ]
    },
    {
      "cell_type": "code",
      "metadata": {
        "id": "GQijMTs21aLh",
        "colab_type": "code",
        "colab": {
          "base_uri": "https://localhost:8080/",
          "height": 34
        },
        "outputId": "95ae9a70-c227-4bdd-f4de-bb24a315f64e"
      },
      "source": [
        "multi_model.coef_"
      ],
      "execution_count": null,
      "outputs": [
        {
          "output_type": "execute_result",
          "data": {
            "text/plain": [
              "array([31.95235469, 14.45968781, 89.59730233])"
            ]
          },
          "metadata": {
            "tags": []
          },
          "execution_count": 40
        }
      ]
    },
    {
      "cell_type": "code",
      "metadata": {
        "id": "eXq1STSB1fyi",
        "colab_type": "code",
        "colab": {
          "base_uri": "https://localhost:8080/",
          "height": 34
        },
        "outputId": "c4c24820-c269-4944-9881-36777f00ad3e"
      },
      "source": [
        "multi_model.intercept_"
      ],
      "execution_count": null,
      "outputs": [
        {
          "output_type": "execute_result",
          "data": {
            "text/plain": [
              "0.30126839646951"
            ]
          },
          "metadata": {
            "tags": []
          },
          "execution_count": 41
        }
      ]
    },
    {
      "cell_type": "code",
      "metadata": {
        "id": "qOgMi8EB1UAW",
        "colab_type": "code",
        "colab": {}
      },
      "source": [
        "x_test, y_test = make_regression(n_samples=50, n_features=3, noise=3)"
      ],
      "execution_count": null,
      "outputs": []
    },
    {
      "cell_type": "code",
      "metadata": {
        "id": "wCqxCoEX1pt-",
        "colab_type": "code",
        "colab": {}
      },
      "source": [
        "y_multi_pred = multi_model.predict(x_test)"
      ],
      "execution_count": null,
      "outputs": []
    },
    {
      "cell_type": "markdown",
      "metadata": {
        "id": "NnpWCHlB2IFN",
        "colab_type": "text"
      },
      "source": [
        "**cost** **function**"
      ]
    },
    {
      "cell_type": "code",
      "metadata": {
        "id": "jkhMDc8A2FQv",
        "colab_type": "code",
        "colab": {}
      },
      "source": [
        "from sklearn.metrics import mean_squared_error"
      ],
      "execution_count": null,
      "outputs": []
    },
    {
      "cell_type": "code",
      "metadata": {
        "id": "_ZpsSYDu2d95",
        "colab_type": "code",
        "colab": {
          "base_uri": "https://localhost:8080/",
          "height": 34
        },
        "outputId": "d6418b05-174f-49c6-a4cc-405d6ebf5bff"
      },
      "source": [
        "mean_squared_error(y_test, y_pred)"
      ],
      "execution_count": null,
      "outputs": [
        {
          "output_type": "execute_result",
          "data": {
            "text/plain": [
              "13853.062416895897"
            ]
          },
          "metadata": {
            "tags": []
          },
          "execution_count": 51
        }
      ]
    },
    {
      "cell_type": "code",
      "metadata": {
        "id": "ps5u6N2o2eAY",
        "colab_type": "code",
        "colab": {}
      },
      "source": [
        "def mse(y_true, y_pred):\n",
        "  n = len(y_pred)\n",
        "  toplam = 0\n",
        "\n",
        "  for target, prediction in zip(y_pred,y_true):\n",
        "    toplam += (target - prediction)**2\n",
        "\n",
        "  mse = (1/n) * toplam\n",
        "\n",
        "  return mse\n"
      ],
      "execution_count": null,
      "outputs": []
    },
    {
      "cell_type": "code",
      "metadata": {
        "id": "qCq8_w2r2eC-",
        "colab_type": "code",
        "colab": {
          "base_uri": "https://localhost:8080/",
          "height": 34
        },
        "outputId": "4257eea8-e647-46d7-de6f-cc8a51d18e9c"
      },
      "source": [
        "mse(y_test, y_pred)"
      ],
      "execution_count": null,
      "outputs": [
        {
          "output_type": "execute_result",
          "data": {
            "text/plain": [
              "13853.062416895898"
            ]
          },
          "metadata": {
            "tags": []
          },
          "execution_count": 52
        }
      ]
    },
    {
      "cell_type": "code",
      "metadata": {
        "id": "NJEBEDXs2eE7",
        "colab_type": "code",
        "colab": {}
      },
      "source": [
        ""
      ],
      "execution_count": null,
      "outputs": []
    }
  ]
}